{
 "cells": [
  {
   "cell_type": "code",
   "execution_count": 1,
   "id": "36c4841a-849f-4244-b02e-1e997fef5de6",
   "metadata": {
    "id": "1fa5d1ae-aeba-403c-89fa-cb5dae3853bd",
    "tags": []
   },
   "outputs": [
    {
     "name": "stdout",
     "output_type": "stream",
     "text": [
      "Hello from notebook1\n"
     ]
    }
   ],
   "source": [
    "print(\"Hello from notebook1\")"
   ]
  },
  {
   "cell_type": "code",
   "execution_count": null,
   "id": "8af29f5c-2d57-4b56-8181-c32e73f76bd8",
   "metadata": {
    "id": "8af29f5c-2d57-4b56-8181-c32e73f76bd8"
   },
   "outputs": [],
   "source": []
  }
 ],
 "metadata": {
  "kernelspec": {
   "display_name": "Python 3.9",
   "language": "python",
   "name": "python3"
  },
  "language_info": {
   "codemirror_mode": {
    "name": "ipython",
    "version": 3
   },
   "file_extension": ".py",
   "mimetype": "text/x-python",
   "name": "python",
   "nbconvert_exporter": "python",
   "pygments_lexer": "ipython3",
   "version": "3.9.7"
  }
 },
 "nbformat": 4,
 "nbformat_minor": 5
}
